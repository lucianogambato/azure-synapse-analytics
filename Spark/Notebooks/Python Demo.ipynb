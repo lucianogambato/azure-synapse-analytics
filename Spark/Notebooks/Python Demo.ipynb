{
  "metadata": {
    "saveOutput": true,
    "language_info": {
      "name": "python"
    }
  },
  "nbformat": 4,
  "nbformat_minor": 2,
  "cells": [
    {
      "cell_type": "markdown",
      "metadata": {},
      "source": [
        "# Azure Synapse Analytics Python Demo\n",
        "## Data source: Public Holidays Open Datasetll title\n",
        ""
      ],
      "attachments": {}
    },
    {
      "cell_type": "code",
      "execution_count": 4,
      "outputs": [],
      "metadata": {},
      "source": [
        "from azureml.opendatasets import PublicHolidays\n",
        "from datetime import datetime\n",
        "from dateutil import parser\n",
        "from dateutil.relativedelta import relativedelta"
      ],
      "attachments": {}
    },
    {
      "cell_type": "code",
      "execution_count": 5,
      "outputs": [],
      "metadata": {},
      "source": [
        "end_date = datetime.today()\n",
        "start_date = end_date - relativedelta(months=12)\n",
        "holidays = PublicHolidays(start_date=start_date,\n",
        "end_date=end_date)"
      ],
      "attachments": {}
    },
    {
      "cell_type": "code",
      "execution_count": 6,
      "outputs": [],
      "metadata": {},
      "source": [
        "holidays_df = holidays.to_spark_dataframe()\n",
        ""
      ],
      "attachments": {}
    },
    {
      "cell_type": "code",
      "execution_count": 7,
      "outputs": [
        {
          "output_type": "execute_result",
          "data": {
            "text/plain": "544"
          },
          "execution_count": 7,
          "metadata": {}
        }
      ],
      "metadata": {
        "outputCollapsed": true
      },
      "source": [
        "holidays_df.count()"
      ],
      "attachments": {}
    },
    {
      "cell_type": "code",
      "execution_count": 8,
      "outputs": [
        {
          "output_type": "execute_result",
          "data": {
            "text/plain": "+---------------+--------------------+--------------------+-------------+-----------------+-------------------+\n|countryOrRegion|         holidayName|normalizeHolidayName|isPaidTimeOff|countryRegionCode|               date|\n+---------------+--------------------+--------------------+-------------+-----------------+-------------------+\n|          Italy|Festa della Repub...|Festa della Repub...|         null|               IT|2019-06-02 00:00:00|\n|         Norway|              Søndag|              Søndag|         null|               NO|2019-06-02 00:00:00|\n|         Sweden|              Söndag|              Söndag|         null|               SE|2019-06-02 00:00:00|\n|       Colombia|Ascensión del señ...|Ascensión del señ...|         null|               CO|2019-06-03 00:00:00|\n|        Ireland|   June Bank Holiday|   June Bank Holiday|         null|               IE|2019-06-03 00:00:00|\n|    New Zealand|    Queen's Birthday|    Queen's Birthday|         null|               NZ|2019-06-03 00:00:00|\n|         Sweden|Sveriges nationaldag|Sveriges nationaldag|         null|               SE|2019-06-06 00:00:00|\n|    Isle of Man|     TT Bank Holiday|     TT Bank Holiday|         null|               IM|2019-06-07 00:00:00|\n|        Belgium|          Pinksteren|          Pinksteren|         null|               BE|2019-06-09 00:00:00|\n|        Denmark|            Pinsedag|            Pinsedag|         null|               DK|2019-06-09 00:00:00|\n|        Finland|      Helluntaipäivä|      Helluntaipäivä|         null|               FI|2019-06-09 00:00:00|\n|        Hungary|             Pünkösd|             Pünkösd|         null|               HU|2019-06-09 00:00:00|\n|    Netherlands|  Eerste Pinksterdag|  Eerste Pinksterdag|         null|               NL|2019-06-09 00:00:00|\n|         Norway|Første pinsedag, ...|Første pinsedag, ...|         null|               NO|2019-06-09 00:00:00|\n|         Poland|     Zielone Świątki|     Zielone Świątki|         null|               PL|2019-06-09 00:00:00|\n|         Sweden| Pingstdagen, Söndag| Pingstdagen, Söndag|         null|               SE|2019-06-09 00:00:00|\n|    Switzerland|           Pfingsten|           Pfingsten|         null|               CH|2019-06-09 00:00:00|\n|        Austria|       Pfingstmontag|       Pfingstmontag|         null|               AT|2019-06-10 00:00:00|\n|        Belgium|     Pinkstermaandag|     Pinkstermaandag|         null|               BE|2019-06-10 00:00:00|\n|        Denmark|      Anden pinsedag|      Anden pinsedag|         null|               DK|2019-06-10 00:00:00|\n+---------------+--------------------+--------------------+-------------+-----------------+-------------------+"
          },
          "execution_count": 8,
          "metadata": {}
        }
      ],
      "metadata": {
        "outputCollapsed": true
      },
      "source": [
        "holidays_df.limit(20).show()"
      ],
      "attachments": {}
    },
    {
      "cell_type": "code",
      "execution_count": 9,
      "outputs": [
        {
          "output_type": "execute_result",
          "data": {
            "application/json": {
              "table": {
                "rows": [
                  {
                    "countryOrRegion": "Italy",
                    "holidayName": "Festa della Repubblica",
                    "normalizeHolidayName": "Festa della Repubblica",
                    "countryRegionCode": "IT",
                    "date": "2019-06-02T00:00:00.000Z"
                  },
                  {
                    "countryOrRegion": "Norway",
                    "holidayName": "Søndag",
                    "normalizeHolidayName": "Søndag",
                    "countryRegionCode": "NO",
                    "date": "2019-06-02T00:00:00.000Z"
                  },
                  {
                    "countryOrRegion": "Sweden",
                    "holidayName": "Söndag",
                    "normalizeHolidayName": "Söndag",
                    "countryRegionCode": "SE",
                    "date": "2019-06-02T00:00:00.000Z"
                  },
                  {
                    "countryOrRegion": "Colombia",
                    "holidayName": "Ascensión del señor [Ascension of Jesus](Observed)",
                    "normalizeHolidayName": "Ascensión del señor [Ascension of Jesus]",
                    "countryRegionCode": "CO",
                    "date": "2019-06-03T00:00:00.000Z"
                  },
                  {
                    "countryOrRegion": "Ireland",
                    "holidayName": "June Bank Holiday",
                    "normalizeHolidayName": "June Bank Holiday",
                    "countryRegionCode": "IE",
                    "date": "2019-06-03T00:00:00.000Z"
                  },
                  {
                    "countryOrRegion": "New Zealand",
                    "holidayName": "Queen's Birthday",
                    "normalizeHolidayName": "Queen's Birthday",
                    "countryRegionCode": "NZ",
                    "date": "2019-06-03T00:00:00.000Z"
                  },
                  {
                    "countryOrRegion": "Sweden",
                    "holidayName": "Sveriges nationaldag",
                    "normalizeHolidayName": "Sveriges nationaldag",
                    "countryRegionCode": "SE",
                    "date": "2019-06-06T00:00:00.000Z"
                  },
                  {
                    "countryOrRegion": "Isle of Man",
                    "holidayName": "TT Bank Holiday",
                    "normalizeHolidayName": "TT Bank Holiday",
                    "countryRegionCode": "IM",
                    "date": "2019-06-07T00:00:00.000Z"
                  },
                  {
                    "countryOrRegion": "Belgium",
                    "holidayName": "Pinksteren",
                    "normalizeHolidayName": "Pinksteren",
                    "countryRegionCode": "BE",
                    "date": "2019-06-09T00:00:00.000Z"
                  },
                  {
                    "countryOrRegion": "Denmark",
                    "holidayName": "Pinsedag",
                    "normalizeHolidayName": "Pinsedag",
                    "countryRegionCode": "DK",
                    "date": "2019-06-09T00:00:00.000Z"
                  },
                  {
                    "countryOrRegion": "Finland",
                    "holidayName": "Helluntaipäivä",
                    "normalizeHolidayName": "Helluntaipäivä",
                    "countryRegionCode": "FI",
                    "date": "2019-06-09T00:00:00.000Z"
                  },
                  {
                    "countryOrRegion": "Hungary",
                    "holidayName": "Pünkösd",
                    "normalizeHolidayName": "Pünkösd",
                    "countryRegionCode": "HU",
                    "date": "2019-06-09T00:00:00.000Z"
                  },
                  {
                    "countryOrRegion": "Netherlands",
                    "holidayName": "Eerste Pinksterdag",
                    "normalizeHolidayName": "Eerste Pinksterdag",
                    "countryRegionCode": "NL",
                    "date": "2019-06-09T00:00:00.000Z"
                  },
                  {
                    "countryOrRegion": "Norway",
                    "holidayName": "Første pinsedag, Søndag",
                    "normalizeHolidayName": "Første pinsedag, Søndag",
                    "countryRegionCode": "NO",
                    "date": "2019-06-09T00:00:00.000Z"
                  },
                  {
                    "countryOrRegion": "Poland",
                    "holidayName": "Zielone Świątki",
                    "normalizeHolidayName": "Zielone Świątki",
                    "countryRegionCode": "PL",
                    "date": "2019-06-09T00:00:00.000Z"
                  },
                  {
                    "countryOrRegion": "Sweden",
                    "holidayName": "Pingstdagen, Söndag",
                    "normalizeHolidayName": "Pingstdagen, Söndag",
                    "countryRegionCode": "SE",
                    "date": "2019-06-09T00:00:00.000Z"
                  },
                  {
                    "countryOrRegion": "Switzerland",
                    "holidayName": "Pfingsten",
                    "normalizeHolidayName": "Pfingsten",
                    "countryRegionCode": "CH",
                    "date": "2019-06-09T00:00:00.000Z"
                  },
                  {
                    "countryOrRegion": "Austria",
                    "holidayName": "Pfingstmontag",
                    "normalizeHolidayName": "Pfingstmontag",
                    "countryRegionCode": "AT",
                    "date": "2019-06-10T00:00:00.000Z"
                  },
                  {
                    "countryOrRegion": "Belgium",
                    "holidayName": "Pinkstermaandag",
                    "normalizeHolidayName": "Pinkstermaandag",
                    "countryRegionCode": "BE",
                    "date": "2019-06-10T00:00:00.000Z"
                  },
                  {
                    "countryOrRegion": "Denmark",
                    "holidayName": "Anden pinsedag",
                    "normalizeHolidayName": "Anden pinsedag",
                    "countryRegionCode": "DK",
                    "date": "2019-06-10T00:00:00.000Z"
                  }
                ],
                "schema": {
                  "countryOrRegion": "string",
                  "holidayName": "string",
                  "normalizeHolidayName": "string",
                  "isPaidTimeOff": "boolean",
                  "countryRegionCode": "string",
                  "date": "timestamp"
                }
              },
              "isSummary": false,
              "language": "python"
            }
          },
          "execution_count": 9,
          "metadata": {}
        }
      ],
      "metadata": {
        "outputCollapsed": true,
        "diagram": {
          "activateDiagramType": 2,
          "chartConfig": {
            "category": "bar",
            "keys": [
              "countryOrRegion"
            ],
            "values": [
              "countryOrRegion"
            ],
            "yLabel": "countryOrRegion",
            "xLabel": "countryOrRegion",
            "aggregation": "COUNT",
            "aggByBackend": false
          },
          "aggData": {
            "countryOrRegion": {
              "Austria": 1,
              "Belgium": 2,
              "Colombia": 1,
              "Denmark": 2,
              "Finland": 1,
              "Hungary": 1,
              "Ireland": 1,
              "Isle of Man": 1,
              "Italy": 1,
              "Netherlands": 1,
              "New Zealand": 1,
              "Norway": 2,
              "Poland": 1,
              "Sweden": 3,
              "Switzerland": 1
            }
          },
          "isSummary": false,
          "previewData": {
            "filter": null
          },
          "isSql": false
        }
      },
      "source": [
        "display(holidays_df.limit(20))"
      ],
      "attachments": {}
    },
    {
      "cell_type": "code",
      "execution_count": null,
      "outputs": [],
      "metadata": {},
      "source": [
        ""
      ],
      "attachments": {}
    }
  ]
}